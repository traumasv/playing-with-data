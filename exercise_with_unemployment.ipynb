{
 "cells": [
  {
   "cell_type": "code",
   "execution_count": 1,
   "metadata": {},
   "outputs": [],
   "source": [
    "import tabletools as tt\n",
    "table = tt.read_csv(\"Unemployment Rate 2008-2019.csv\")"
   ]
  },
  {
   "cell_type": "code",
   "execution_count": 1,
   "metadata": {},
   "outputs": [
    {
     "ename": "NameError",
     "evalue": "name 'table' is not defined",
     "output_type": "error",
     "traceback": [
      "\u001b[1;31m---------------------------------------------------------------------------\u001b[0m",
      "\u001b[1;31mNameError\u001b[0m                                 Traceback (most recent call last)",
      "\u001b[1;32m<ipython-input-1-ae43527c755a>\u001b[0m in \u001b[0;36m<module>\u001b[1;34m()\u001b[0m\n\u001b[1;32m----> 1\u001b[1;33m \u001b[0mtable\u001b[0m\u001b[1;33m.\u001b[0m\u001b[0mhead\u001b[0m\u001b[1;33m(\u001b[0m\u001b[1;36m5\u001b[0m\u001b[1;33m)\u001b[0m\u001b[1;33m\u001b[0m\u001b[0m\n\u001b[0m",
      "\u001b[1;31mNameError\u001b[0m: name 'table' is not defined"
     ]
    }
   ],
   "source": [
    "# first 5 rows of the data set including column headers\n",
    "table.head(5)"
   ]
  },
  {
   "cell_type": "code",
   "execution_count": 2,
   "metadata": {},
   "outputs": [
    {
     "ename": "NameError",
     "evalue": "name 'table' is not defined",
     "output_type": "error",
     "traceback": [
      "\u001b[1;31m---------------------------------------------------------------------------\u001b[0m",
      "\u001b[1;31mNameError\u001b[0m                                 Traceback (most recent call last)",
      "\u001b[1;32m<ipython-input-2-b65b67a82f6a>\u001b[0m in \u001b[0;36m<module>\u001b[1;34m()\u001b[0m\n\u001b[1;32m----> 1\u001b[1;33m \u001b[0mtable\u001b[0m\u001b[1;33m.\u001b[0m\u001b[0mtail\u001b[0m\u001b[1;33m(\u001b[0m\u001b[1;36m5\u001b[0m\u001b[1;33m)\u001b[0m\u001b[1;33m\u001b[0m\u001b[0m\n\u001b[0m",
      "\u001b[1;31mNameError\u001b[0m: name 'table' is not defined"
     ]
    }
   ],
   "source": [
    "# last 5 rows of the data set including column headers\n",
    "table.tail(5)"
   ]
  },
  {
   "cell_type": "code",
   "execution_count": 4,
   "metadata": {},
   "outputs": [
    {
     "data": {
      "text/plain": [
       "            Label     Value \n",
       "        0  2008 Jan       5.0 \n",
       "        1  2008 Feb       4.9 \n",
       "        2  2008 Mar       5.1 \n",
       "        3  2008 Apr       5.0 \n",
       "        4  2008 May       5.4 \n",
       "        5  2008 Jun       5.6 \n",
       "        6  2008 Jul       5.8 \n",
       "        7  2008 Aug       6.1 \n",
       "        8  2008 Sep       6.1 \n",
       "        9  2008 Oct       6.5 "
      ]
     },
     "execution_count": 4,
     "metadata": {},
     "output_type": "execute_result"
    }
   ],
   "source": [
    "# any 2 columns, including column headers; limit to 10 rows\n",
    "table.head(10)[['Label', 'Value']]"
   ]
  },
  {
   "cell_type": "code",
   "execution_count": 5,
   "metadata": {},
   "outputs": [],
   "source": [
    "# filtering years according whether if the unemployment was in a 'bad condition' (above 5%)\n",
    "poor_econ = table[table['Value'] > 5.0].head(10)"
   ]
  },
  {
   "cell_type": "code",
   "execution_count": 6,
   "metadata": {},
   "outputs": [
    {
     "data": {
      "text/plain": [
       "              Series ID         Year       Period        Label        Value \n",
       "           0  LNS14000000       2008.0          M03     2008 Mar          5.1 \n",
       "           1  LNS14000000       2008.0          M05     2008 May          5.4 \n",
       "           2  LNS14000000       2008.0          M06     2008 Jun          5.6 \n",
       "           3  LNS14000000       2008.0          M07     2008 Jul          5.8 \n",
       "           4  LNS14000000       2008.0          M08     2008 Aug          6.1 \n",
       "           5  LNS14000000       2008.0          M09     2008 Sep          6.1 \n",
       "           6  LNS14000000       2008.0          M10     2008 Oct          6.5 \n",
       "           7  LNS14000000       2008.0          M11     2008 Nov          6.8 \n",
       "           8  LNS14000000       2008.0          M12     2008 Dec          7.3 \n",
       "           9  LNS14000000       2009.0          M01     2009 Jan          7.8 "
      ]
     },
     "execution_count": 6,
     "metadata": {},
     "output_type": "execute_result"
    }
   ],
   "source": [
    "poor_econ"
   ]
  },
  {
   "cell_type": "code",
   "execution_count": 7,
   "metadata": {},
   "outputs": [
    {
     "data": {
      "text/plain": [
       "            Label     Value \n",
       "        0  2008 Mar       5.1 \n",
       "        1  2008 May       5.4 \n",
       "        2  2008 Jun       5.6 \n",
       "        3  2008 Jul       5.8 \n",
       "        4  2008 Aug       6.1 \n",
       "        5  2008 Sep       6.1 \n",
       "        6  2008 Oct       6.5 \n",
       "        7  2008 Nov       6.8 \n",
       "        8  2008 Dec       7.3 \n",
       "        9  2009 Jan       7.8 "
      ]
     },
     "execution_count": 7,
     "metadata": {},
     "output_type": "execute_result"
    }
   ],
   "source": [
    "# show only the year, month and the value of unemployment\n",
    "poor_econ[['Label', 'Value']].head(10)"
   ]
  },
  {
   "cell_type": "code",
   "execution_count": 8,
   "metadata": {},
   "outputs": [
    {
     "data": {
      "text/plain": [
       "              Series ID         Year       Period        Label        Value \n",
       "           0  LNS14000000       2009.0          M10     2009 Oct         10.0 "
      ]
     },
     "execution_count": 8,
     "metadata": {},
     "output_type": "execute_result"
    }
   ],
   "source": [
    "# finding the row with the max value of unemployment\n",
    "table[table['Value'] == max(table['Value'])]"
   ]
  },
  {
   "cell_type": "code",
   "execution_count": 9,
   "metadata": {},
   "outputs": [
    {
     "data": {
      "text/plain": [
       "              Series ID         Year       Period        Label        Value \n",
       "           0  LNS14000000       2008.0          M02     2008 Feb          4.9 \n",
       "           1  LNS14000000       2016.0          M01     2016 Jan          4.9 \n",
       "           2  LNS14000000       2016.0          M02     2016 Feb          4.9 \n",
       "           3  LNS14000000       2016.0          M05     2016 May          4.8 \n",
       "           4  LNS14000000       2016.0          M06     2016 Jun          4.9 \n",
       "           5  LNS14000000       2016.0          M07     2016 Jul          4.8 \n",
       "           6  LNS14000000       2016.0          M08     2016 Aug          4.9 \n",
       "           7  LNS14000000       2016.0          M10     2016 Oct          4.9 \n",
       "           8  LNS14000000       2016.0          M11     2016 Nov          4.7 \n",
       "           9  LNS14000000       2016.0          M12     2016 Dec          4.7 "
      ]
     },
     "execution_count": 9,
     "metadata": {},
     "output_type": "execute_result"
    }
   ],
   "source": [
    "# filtering all the years that was economically 'good' for the job market (where unemployment was below 5%)\n",
    "table[table['Value'] < 5.0].head(10)"
   ]
  },
  {
   "cell_type": "code",
   "execution_count": null,
   "metadata": {},
   "outputs": [],
   "source": []
  }
 ],
 "metadata": {
  "kernelspec": {
   "display_name": "Python [Anaconda3]",
   "language": "python",
   "name": "Python [Anaconda3]"
  },
  "language_info": {
   "codemirror_mode": {
    "name": "ipython",
    "version": 3
   },
   "file_extension": ".py",
   "mimetype": "text/x-python",
   "name": "python",
   "nbconvert_exporter": "python",
   "pygments_lexer": "ipython3",
   "version": "3.5.6"
  }
 },
 "nbformat": 4,
 "nbformat_minor": 4
}
